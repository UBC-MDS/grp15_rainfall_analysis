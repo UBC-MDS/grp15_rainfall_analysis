{
 "cells": [
  {
   "cell_type": "markdown",
   "id": "hollywood-seven",
   "metadata": {},
   "source": [
    "# DSCI 525 - Web and Cloud Computing"
   ]
  },
  {
   "cell_type": "markdown",
   "id": "exceptional-resident",
   "metadata": {},
   "source": [
    "***Milestone 4:*** In this milestone, you will deploy the machine learning model you trained in milestone 3."
   ]
  },
  {
   "cell_type": "markdown",
   "id": "peripheral-reynolds",
   "metadata": {},
   "source": [
    "Milestone 4 checklist :\n",
    "\n",
    "- [x] Use an EC2 instance.\n",
    "- [x] Develop your API here in this notebook.\n",
    "- [x] Copy it to ```app.py``` file in EC2 instance.\n",
    "- [x] Run your API for other consumers and test among your colleagues.\n",
    "- [x] Summarize your journey."
   ]
  },
  {
   "cell_type": "code",
   "execution_count": 3,
   "id": "offensive-employee",
   "metadata": {},
   "outputs": [],
   "source": [
    "## Import all the packages that you need\n",
    "import numpy as np\n",
    "import pandas as pd\n",
    "from sklearn.metrics import mean_squared_error\n",
    "from sklearn.ensemble import RandomForestRegressor\n",
    "from sklearn.model_selection import train_test_split"
   ]
  },
  {
   "cell_type": "markdown",
   "id": "respective-sport",
   "metadata": {},
   "source": [
    "## 1. Develop your API\n",
    "\n",
    "rubric={mechanics:45}"
   ]
  },
  {
   "cell_type": "markdown",
   "id": "immediate-bunny",
   "metadata": {},
   "source": [
    "You probably got how to set up primary URL endpoints from the ```sampleproject.ipynb notebook``` and have them process and return some data. Here we are going to create a new endpoint that accepts a POST request of the features required to run the machine learning model that you trained and saved in last milestone (i.e., a user will post the predictions of the 25 climate model rainfall predictions, i.e., features,  needed to predict with your machine learning model). Your code should then process this data, use your model to make a prediction, and return that prediction to the user. To get you started with all this, I've given you a template which you should fill out to set up this functionality:\n",
    "\n",
    "***NOTE:*** You won't be able to test the flask module (or the API you make here) unless you go through steps in ```2. Deploy your API```. However, here you can make sure that you develop all your functions and inputs properly.\n",
    "\n",
    "```python\n",
    "from flask import Flask, request, jsonify\n",
    "import joblib\n",
    "\n",
    "app = Flask(__name__)\n",
    "\n",
    "# 1. Load your model here\n",
    "model = joblib.load(\"model.joblib\")\n",
    "\n",
    "# 2. Define a prediction function\n",
    "def return_prediction(inputs):\n",
    "    # format input_data here so that you can pass it to model.predict()\n",
    "    return model.predict([inputs])\n",
    "\n",
    "\n",
    "# 3. Set up home page using basic html\n",
    "@app.route(\"/\")\n",
    "def index():\n",
    "    # feel free to customize this if you like\n",
    "    return \"\"\"\n",
    "    <h1>Welcome to our rain prediction service</h1>\n",
    "    To use this service, make a JSON post request to the /predict url with 5 climate model outputs.\n",
    "    \"\"\"\n",
    "\n",
    "\n",
    "# 4. define a new route which will accept POST requests and return model predictions\n",
    "@app.route(\"/predict\", methods=[\"POST\"])\n",
    "def rainfall_prediction():\n",
    "    content = request.json  # this extracts the JSON content we sent\n",
    "    feats = content[\"data\"]\n",
    "    pred = return_prediction(feats)\n",
    "    results = {\"Input\": feats, \"Prediction\": f\"{pred[0]:.4f} mm/day\"}\n",
    "    return jsonify(results)\n",
    "```"
   ]
  },
  {
   "cell_type": "markdown",
   "id": "stylish-swift",
   "metadata": {},
   "source": [
    "## 2. Deploy your API\n",
    "\n",
    "rubric={mechanics:40}"
   ]
  },
  {
   "cell_type": "markdown",
   "id": "corporate-concept",
   "metadata": {},
   "source": [
    "Once your API (app.py) is working we're ready to deploy it! For this, do the following:\n",
    "\n",
    "1. SSH into your EC2 instance from milestone2. There are no issues if you want to spin another EC2 instance; if you plan to do so, make sure you terminate any other running instances.\n",
    "2. Make a file `app.py` file in your instance and copy what you developed above in there. \n",
    "\n",
    "    2.1 You can use the linux editor using ```vi```. More details on vi Editor [here](https://www.guru99.com/the-vi-editor.html). I do recommend doing it this way and knowing some basics like ```:wq,:q!,dd``` will help.\n",
    "    \n",
    "    2.2 Or else you can make a file in your laptop called app.py and copy it over to your EC2 instance using ```scp```. Eg: ```scp -r -i \"ggeorgeAD.pem\" ~/Desktop/worker.py  ubuntu@ec2-xxx.ca-central-1.compute.amazonaws.com:~/```\n",
    "\n",
    "3. Download your model from s3 to your EC2 instance.\n",
    "4. Presumably you already have `pip` or `conda` installed on your instance from your previous milestone. You should use one of those package managers to install the dependencies of your API, like `flask`, `joblib`, `sklearn`, etc.\n",
    "\n",
    "    4.1. You have installed it in your TLJH using [Installing pip packages](https://tljh.jupyter.org/en/latest/howto/env/user-environment.html#installing-pip-packages). if you want to make it available to users outside of jupyterHub (which you want to in this case as we are logging into EC2 instance as user ```ubuntu``` by giving ```ssh -i privatekey ubuntu@<host_name>```) you can follow these [instructions](https://tljh.jupyter.org/en/latest/howto/env/user-environment.html#accessing-user-environment-outside-jupyterhub).\n",
    "    \n",
    "    4.2. Alternatively you can install the required packages inside your terminal.\n",
    "        - Install conda:\n",
    "            wget https://repo.anaconda.com/miniconda/Miniconda3-latest-Linux-x86_64.sh\n",
    "            bash Miniconda3-latest-Linux-x86_64.sh\n",
    "        - Install packages (there might be others): \n",
    "            conda install flask scikit-learn joblib\n",
    "\n",
    "5. Now you're ready to start your service, go ahead and run `flask run --host=0.0.0.0 --port=8080`. This will make your service available at your EC2 instance's IP address on port 8080. Please make sure that you run this from where ```app.py``` and ```model.joblib``` resides.\n",
    "6. You can now access your service by typing your EC2 instances public IPv4 address appened with `:8080` into a browswer, so something like `http://<your_EC2_ip>:8080`.\n",
    "7. You should use `curl` to send a post request to your service to make sure it's working as expected.\n",
    ">EG: curl -X POST http://your_EC2_ip:8080/predict -d '{\"data\":[1,2,3,4,53,11,22,37,41,53,11,24,31,44,53,11,22,35,42,53,12,23,31,42,53]}' -H \"Content-Type: application/json\"\n",
    "\n",
    "8. Now, what happens if you exit your connection with the EC2 instance? Can you still reach your service?\n",
    "9. There are several options we could use to help us persist our server even after we exit our shell session. We'll be using `screen`. `screen` will allow us to create a separate session within which we can run `flask` and which won't shut down when we exit the main shell session. Read [this](https://linuxize.com/post/how-to-use-linux-screen/) to learn more on ```screen```.\n",
    "10. Now, create a new `screen` session (think of this as a new, separate shell), using: `screen -S myapi`. If you want to list already created sessions do ```screen -list```. If you want to get into an existing ```screen -x myapi```.\n",
    "11. Within that session, start up your flask app. You can then exit the session by pressing `Ctrl + A then press D`. Here you are detaching the session, once you log back into EC2 instance you can attach it using ```screen -x myapi```.\n",
    "12. Feel free to exit your connection with the EC2 instance now and try accessing your service again with `curl`. You should find that the service has now persisted!\n",
    "13. ***CONGRATULATIONS!!!*** You have successfully got to the end of our milestones. Move to Task 3 and submit it."
   ]
  },
  {
   "cell_type": "markdown",
   "id": "educational-elephant",
   "metadata": {},
   "source": [
    "## 3. Summarize your journey from Milestone 1 to Milestone 4\n",
    "rubric={mechanics:10}\n",
    ">There is no format or structure on how you write this. (also, no minimum number of words).  It's your choice on how well you describe it.\n",
    "\n",
    "- Milestone 1\n",
    "> We found out working with large datasets locally using the standard library (Pandas) was not efficient due to high time and memory usage. Besides, the local system might crash due to insufficient resources (low configurations). Then we learned to use fligshare API to download data remotely and extract the zip file programmatically. We noticed that changing the data types of the columns from float64 to float32 could help reduce memory usage while performing columnwise operations, however, had no obvious impact on runtime since there was no parallel computing being done. Finally, we explored Dask approach as an alternative to Pandas, which allowed us to load and process data in chunks and performed parallel computing. As a result, the memory usage and runtime were significantly reduced. In addition, we compared memory usage and runtime while converting the data into other file formats such as parquet, arrow and feather for a simple EDA. We ended up using parquet format as it consumed the least memory as compared to other formats and was easy to work with when transferring data from python to R kernel within the same notebook. \n",
    "\n",
    "- Milestone 2\n",
    "> In this milestone we set up our EC2 instance with JupyterHub and ensured that all of our members could access it. We also installed all the necessary packages required for running the code we would use in our instance; this included basic packages such as `pandas` and `sklearn`. With our JupyterHub `ipynb` equipped to run the code provided by Gittu we were then able to download the data in a parquet file format by running code provided. From there we set up our S3 bucket and moved the data that we obtained from Milestone 1 along with the parquet file obtained earlier to the S3 bucket. Lastly, we did a bit of data wrangling while working with the data from S3 and saved the processed file back to S3. Overall, it was relatively smooth sailing this milestone. However, we did have to spend some time figuring out how to move the parquet file to s3 which we ultimately were able to do by adding `--recursive` to our command.\n",
    "- Milestone 3\n",
    "> In Milestone 3, we spun up an EMR cluster in AWS, which allows us to scale out using distributed computing with PySpark framework. We first used The Littlest JupyterHub(TLJH) in our EC2 instance to read in the data stored in our S3 bucket, split into train and test sets, and perform basic EDA on the train set. Then, we used PySpark machine learning libraries on our EMR cluster to conduct a grid search for best-performing hyperparameters for `RandomForestRegressor`. Using PySpark allows the machine learning tasks during training and cross-validation to be distributed. Since hyperparameter search on this large dataset can be very computationally expensive and have demanding memory requirements, scale out solution with PySpark using distributed computing can be very helpful. Then, using these best-performing hyperparameter values, we trained a final model in our EC2 instance and saved the model in S3 bucket as a \"model.joblib\" file that is ready for deployment.\n",
    "\n",
    "- Milestone 4\n",
    "> In this milestone, we deployed the best `RandomForestRegressor` model in a production environment hosted in the EC2 instance that can be accessed by others using a REST API. To make the API, we built a simple Flask web framework. We created `app.py` script as the `FLASK_APP` environment variable. In this `app.py` script, two functions bound with the `@app.route()` decorator are created. The `index` function is just for the landing/index page which can be accessed by HTTP `GET` method. The other function `rainfall_prediction` defines a new route which will accept POST requests and return model predictions based on user's input. Finally, we run the Flask application in the `screen` session which we created to make our service persist even though we exit the connection wit the EC2 instance."
   ]
  },
  {
   "cell_type": "markdown",
   "id": "promotional-forwarding",
   "metadata": {},
   "source": [
    "## 4. Submission instructions\n",
    "rubric={mechanics:5}\n",
    "\n",
    "In the textbox provided on Canvas please put a link where TAs can find the following-\n",
    "- [x] This notebook with solution to ```1 & 3```\n",
    "- [x] Screenshot from \n",
    "    - [x] Output after trying curl. Here is a [sample](https://github.ubc.ca/MDS-2020-21/DSCI_525_web-cloud-comp_students/blob/master/Milestones/milestone4/images/curl_deploy_sample.png). This is just an example; your input/output doesn't have to look like this, you can design the way you like. But at a minimum, it should show your prediction value.\n",
    "    \n",
    "> Group 15 screenshot of the output of `curl` command\n",
    "\n",
    "![](task2.png)"
   ]
  }
 ],
 "metadata": {
  "kernelspec": {
   "display_name": "Python 3",
   "language": "python",
   "name": "python3"
  },
  "language_info": {
   "codemirror_mode": {
    "name": "ipython",
    "version": 3
   },
   "file_extension": ".py",
   "mimetype": "text/x-python",
   "name": "python",
   "nbconvert_exporter": "python",
   "pygments_lexer": "ipython3",
   "version": "3.8.8"
  }
 },
 "nbformat": 4,
 "nbformat_minor": 5
}
